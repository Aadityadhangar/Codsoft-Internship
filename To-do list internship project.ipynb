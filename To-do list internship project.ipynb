{
 "cells": [
  {
   "cell_type": "code",
   "execution_count": 1,
   "metadata": {},
   "outputs": [],
   "source": [
    "#define a dictionary to store to-do lists \n",
    "todo_lists = {} \n",
    "\n",
    "# Function to create a new to-do list\n",
    "def create_todo_list(name):\n",
    "    if name not in todo_lists:  \n",
    "        todo_lists[name] = []\n",
    "        print(f\"To-do list '{name}' created successfully. \")\n",
    "    else:\n",
    "        print(f\"To-do list '{name}' already exists. \")\n",
    "\n",
    "# functions to add a task to a to-do list\n",
    "def add_task(list_name, task):  \n",
    "    if list_name in todo_lists:\n",
    "        todo_lists[list_name].append(task)\n",
    "        print(f\"task '{task}' added to '{list_name}' list.\") \n",
    "    else: \n",
    "        print(f\"To-do list '{list_name}' does not exist. \")\n",
    "\n",
    "# function to view tasks in to-do list\n",
    "def view_task(list_name):\n",
    "    if list_name in todo_lists:\n",
    "        for task in todo_list[list_name]:\n",
    "            print(f\" {task}\")\n",
    "\n",
    "# main loop for user interaction\n",
    "while True:\n",
    "    print(\"\\nCommands:\")\n",
    "    print(\"1. Create a new to do list\")\n",
    "    print(\"2. Add a task to a to-do list\")\n",
    "    print(\"3. view the task in a to-do list\")\n",
    "    print(\"4. Exit\")\n",
    "\n",
    "    choice=input(\"Enter your choice (1/2/3/4): \")\n",
    "\n",
    "    if choice == \"1\":\n",
    "        name = input(\"Enter the name of the new to-do list: \")\n",
    "        create_todo_list(name)\n",
    "    elif choice == \"2\":\n",
    "        list_name = input(\"Enter the name of the to-do list: \")\n",
    "        task = input(\"Enter the new task to add: \")\n",
    "        add_task(list_name, task)\n",
    "    elif choice == \"3\":\n",
    "        list_name = input(\"Enter the name of the to-do list: \")\n",
    "        view_task(list_name)\n",
    "    elif choice == \"4\":\n",
    "        print(\"Exiting the to-do list application. GOODBYE! \")\n",
    "        break\n",
    "    else:\n",
    "        print(\"invalid input. Please choose a valid input option.\")\n",
    "\n",
    "\n",
    "                     \n",
    "\n",
    "\n"
   ]
  }
 ],
 "metadata": {
  "kernelspec": {
   "display_name": "Python 3",
   "language": "python",
   "name": "python3"
  },
  "language_info": {
   "codemirror_mode": {
    "name": "ipython",
    "version": 3
   },
   "file_extension": ".py",
   "mimetype": "text/x-python",
   "name": "python",
   "nbconvert_exporter": "python",
   "pygments_lexer": "ipython3",
   "version": "3.11.9"
  }
 },
 "nbformat": 4,
 "nbformat_minor": 2
}
