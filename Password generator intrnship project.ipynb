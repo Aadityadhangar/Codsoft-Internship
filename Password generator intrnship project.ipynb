{
 "cells": [
  {
   "cell_type": "code",
   "execution_count": 9,
   "metadata": {},
   "outputs": [
    {
     "name": "stdout",
     "output_type": "stream",
     "text": [
      "YOUR GENERATED PASSWORD IS:   atw6rf\n"
     ]
    }
   ],
   "source": [
    "         #TASK_NO.3 Password Generator\n",
    "\n",
    "import random \n",
    "def generate_password():\n",
    "       \n",
    "            password=['a','b','c','d','e','f','g','h','i','j','k','l','m','n','o','p','q','r','s','t',\n",
    "                      'u','v','w','x','y','z','1','2','3','4','5','6','7','8','9','0','@','#','%','&','*','!','?']\n",
    "            \n",
    "            user_prompt=int(input(\"ENTER THE LENGTH OF THE PASSWORD: \")) \n",
    "\n",
    "            passwrd=\" \"\n",
    "            for x in range(user_prompt):\n",
    "                    passwrd=passwrd+random.choice(password)\n",
    "\n",
    "            print(\"YOUR GENERATED PASSWORD IS: \",passwrd)\n",
    "\n",
    "generate_password()            \n"
   ]
  },
  {
   "cell_type": "code",
   "execution_count": null,
   "metadata": {},
   "outputs": [],
   "source": []
  }
 ],
 "metadata": {
  "kernelspec": {
   "display_name": "Python 3",
   "language": "python",
   "name": "python3"
  },
  "language_info": {
   "codemirror_mode": {
    "name": "ipython",
    "version": 3
   },
   "file_extension": ".py",
   "mimetype": "text/x-python",
   "name": "python",
   "nbconvert_exporter": "python",
   "pygments_lexer": "ipython3",
   "version": "3.11.9"
  }
 },
 "nbformat": 4,
 "nbformat_minor": 2
}
