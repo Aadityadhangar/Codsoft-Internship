{
 "cells": [
  {
   "cell_type": "code",
   "execution_count": 4,
   "metadata": {},
   "outputs": [
    {
     "ename": "IndentationError",
     "evalue": "expected an indented block after 'while' statement on line 13 (343538443.py, line 14)",
     "output_type": "error",
     "traceback": [
      "\u001b[1;36m  Cell \u001b[1;32mIn[4], line 14\u001b[1;36m\u001b[0m\n\u001b[1;33m    user_choice=input(\"ENTER YOUR CHOICE: \").lower()\u001b[0m\n\u001b[1;37m                                                    ^\u001b[0m\n\u001b[1;31mIndentationError\u001b[0m\u001b[1;31m:\u001b[0m expected an indented block after 'while' statement on line 13\n"
     ]
    }
   ],
   "source": [
    "        #TASK_4 , ROCK , PAPER AND SCISSOR GAME\n",
    "\n",
    "import random\n",
    "def guessing_game():\n",
    "\n",
    "    print(\"\\nWELCOME TO ROCK, PAPER,SCISSOR GAME: \")\n",
    "    print(\"choices: ROCK , PAPER ,SCISSOR\\n \")\n",
    "\n",
    "    items=[\"paper\",\"rock\",\"scissor\"]\n",
    "\n",
    "    rand=random.choice(items)\n",
    "    attempt=0\n",
    "    while True:\n",
    "        user_choice=input(\"ENTER YOUR CHOICE: \").lower()\n",
    "        if user_choice==\"exit\":\n",
    "            print(\"GAME ENDED\")\n",
    "            break\n",
    "\n",
    "        elif user_choice== rand :\n",
    "            print(\"congratulations you won : \")\n",
    "            print(f\"YOU WON THE GAME GUESSING THE CORRECT OUTPUT {user_choice} and in {attempt+1} attempt\\n\")\n",
    "            play_again = input(\"If you want to play again, enter the 'yes',else type 'exit' to quit: \").lower()\n",
    "\n",
    "            if play_again != 'yes':\n",
    "                print(\"THANKS FOR PLAYING!\")\n",
    "            else:\n",
    "                guessing_game()\n",
    "\n",
    "        else:\n",
    "            print(\"TRY AGAIN\")\n",
    "\n",
    "            attempts=attempts+1"
   ]
  }
 ],
 "metadata": {
  "kernelspec": {
   "display_name": "Python 3",
   "language": "python",
   "name": "python3"
  },
  "language_info": {
   "codemirror_mode": {
    "name": "ipython",
    "version": 3
   },
   "file_extension": ".py",
   "mimetype": "text/x-python",
   "name": "python",
   "nbconvert_exporter": "python",
   "pygments_lexer": "ipython3",
   "version": "3.11.9"
  }
 },
 "nbformat": 4,
 "nbformat_minor": 2
}
