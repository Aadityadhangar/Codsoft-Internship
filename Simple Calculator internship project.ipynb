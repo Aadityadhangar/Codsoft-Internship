{
 "cells": [
  {
   "cell_type": "code",
   "execution_count": 11,
   "metadata": {},
   "outputs": [
    {
     "name": "stdout",
     "output_type": "stream",
     "text": [
      "THE ANSWER IS:  1035.0\n"
     ]
    }
   ],
   "source": [
    "def add(num_1,num_2):\n",
    "    return num_1+num_2\n",
    "\n",
    "def subtract(num_1,num_2):\n",
    "    return num_1-num_2\n",
    "\n",
    "def multiply(num_1,num_2):\n",
    "    return num_1*num_2\n",
    "\n",
    "def divide(num_1,num_2):\n",
    "    if num_1!=0:\n",
    "        return num_1/num_2\n",
    "    else:\n",
    "        print(\"INFINITY\")\n",
    "\n",
    "def calculator():\n",
    "    while True:\n",
    "        num_1=float(input(\"\\n ENTER FIRST NUMBER OR EXIT FOR QUIT: \"))\n",
    "        if num_1==\"exit\":\n",
    "            print(\"CALCULATOR STOPPED: \")\n",
    "            break\n",
    "\n",
    "        num_2=float(input(\"ENTER SECOND NUMBER: \")) \n",
    "\n",
    "        choice=(input(\"ENTER ANY OF THESE +,-,*,/: \"))\n",
    "\n",
    "        if choice==\"+\": \n",
    "            print(\"THE ANSWER IS: \",add(num_1,num_2))\n",
    "        elif choice==\"-\":\n",
    "            print(\"THE ANSWER IS: \",subtract(num_1,num_2))\n",
    "        elif choice==\"*\":\n",
    "            print(\"THE ANSWER IS: \",multiply(num_1,num_2))\n",
    "        elif choice==\"/\":\n",
    "            print(\"THE ANSWER IS: \",divide(num_1,num_2))\n",
    "        else:\n",
    "            print(\"INVALID INPUT\")\n",
    "\n",
    "calculator()"
   ]
  }
 ],
 "metadata": {
  "kernelspec": {
   "display_name": "Python 3",
   "language": "python",
   "name": "python3"
  },
  "language_info": {
   "codemirror_mode": {
    "name": "ipython",
    "version": 3
   },
   "file_extension": ".py",
   "mimetype": "text/x-python",
   "name": "python",
   "nbconvert_exporter": "python",
   "pygments_lexer": "ipython3",
   "version": "3.11.9"
  }
 },
 "nbformat": 4,
 "nbformat_minor": 2
}
